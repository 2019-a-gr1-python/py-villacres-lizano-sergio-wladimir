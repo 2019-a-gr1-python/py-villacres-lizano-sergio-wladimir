{
 "cells": [
  {
   "cell_type": "markdown",
   "metadata": {},
   "source": [
    "# Indices"
   ]
  },
  {
   "cell_type": "code",
   "execution_count": 1,
   "metadata": {},
   "outputs": [],
   "source": [
    "import numpy as np"
   ]
  },
  {
   "cell_type": "code",
   "execution_count": 2,
   "metadata": {},
   "outputs": [],
   "source": [
    "numeros = np.arange(11)**2"
   ]
  },
  {
   "cell_type": "code",
   "execution_count": 3,
   "metadata": {},
   "outputs": [
    {
     "data": {
      "text/plain": [
       "array([  0,   1,   4,   9,  16,  25,  36,  49,  64,  81, 100], dtype=int32)"
      ]
     },
     "execution_count": 3,
     "metadata": {},
     "output_type": "execute_result"
    }
   ],
   "source": [
    "numeros"
   ]
  },
  {
   "cell_type": "code",
   "execution_count": 7,
   "metadata": {},
   "outputs": [],
   "source": [
    "indices = [2,5,7]"
   ]
  },
  {
   "cell_type": "code",
   "execution_count": 8,
   "metadata": {},
   "outputs": [
    {
     "data": {
      "text/plain": [
       "array([ 4, 25, 49], dtype=int32)"
      ]
     },
     "execution_count": 8,
     "metadata": {},
     "output_type": "execute_result"
    }
   ],
   "source": [
    "numeros[indices]"
   ]
  },
  {
   "cell_type": "code",
   "execution_count": 9,
   "metadata": {},
   "outputs": [],
   "source": [
    "arreglo_frutas = np.array([\n",
    "    ['Piña','Manzana','Pera','Melon'],\n",
    "    ['Pera','Uva','Naranja','Papaya'],\n",
    "    ['Frutilla','Platano','Granadilla','Sandia']\n",
    "])"
   ]
  },
  {
   "cell_type": "code",
   "execution_count": 10,
   "metadata": {},
   "outputs": [
    {
     "data": {
      "text/plain": [
       "array([['Piña', 'Manzana', 'Pera', 'Melon'],\n",
       "       ['Pera', 'Uva', 'Naranja', 'Papaya'],\n",
       "       ['Frutilla', 'Platano', 'Granadilla', 'Sandia']], dtype='<U10')"
      ]
     },
     "execution_count": 10,
     "metadata": {},
     "output_type": "execute_result"
    }
   ],
   "source": [
    "arreglo_frutas"
   ]
  },
  {
   "cell_type": "code",
   "execution_count": 12,
   "metadata": {},
   "outputs": [
    {
     "data": {
      "text/plain": [
       "(3, 4)"
      ]
     },
     "execution_count": 12,
     "metadata": {},
     "output_type": "execute_result"
    }
   ],
   "source": [
    "arreglo_frutas.shape"
   ]
  },
  {
   "cell_type": "code",
   "execution_count": 14,
   "metadata": {},
   "outputs": [],
   "source": [
    "arreglo_filas = np.array([\n",
    "    [0,0],\n",
    "    [1,1],\n",
    "    [2,2],\n",
    "])"
   ]
  },
  {
   "cell_type": "code",
   "execution_count": 15,
   "metadata": {},
   "outputs": [],
   "source": [
    "arreglo_columnas = np.array([\n",
    "    [1,3],\n",
    "    [1,2],\n",
    "    [0,2],\n",
    "])"
   ]
  },
  {
   "cell_type": "code",
   "execution_count": 16,
   "metadata": {},
   "outputs": [
    {
     "data": {
      "text/plain": [
       "array([['Manzana', 'Melon'],\n",
       "       ['Uva', 'Naranja'],\n",
       "       ['Frutilla', 'Granadilla']], dtype='<U10')"
      ]
     },
     "execution_count": 16,
     "metadata": {},
     "output_type": "execute_result"
    }
   ],
   "source": [
    "arreglo_frutas[arreglo_filas,arreglo_columnas]"
   ]
  },
  {
   "cell_type": "code",
   "execution_count": 17,
   "metadata": {},
   "outputs": [
    {
     "data": {
      "text/plain": [
       "array([['Piña', 'Manzana', 'Pera', 'Melon'],\n",
       "       ['Pera', 'Uva', 'Naranja', 'Papaya'],\n",
       "       ['Frutilla', 'Platano', 'Granadilla', 'Sandia']], dtype='<U10')"
      ]
     },
     "execution_count": 17,
     "metadata": {},
     "output_type": "execute_result"
    }
   ],
   "source": [
    "arreglo_frutas"
   ]
  },
  {
   "cell_type": "code",
   "execution_count": 18,
   "metadata": {},
   "outputs": [],
   "source": [
    "filas = np.array([\n",
    "    [0,0],\n",
    "    [1,1],\n",
    "    [2,2]\n",
    "])"
   ]
  },
  {
   "cell_type": "code",
   "execution_count": 19,
   "metadata": {},
   "outputs": [],
   "source": [
    "columnas = np.array([\n",
    "    [2,3],\n",
    "    [2,3],\n",
    "    [2,3]\n",
    "])"
   ]
  },
  {
   "cell_type": "code",
   "execution_count": 20,
   "metadata": {},
   "outputs": [
    {
     "data": {
      "text/plain": [
       "array([['Pera', 'Melon'],\n",
       "       ['Naranja', 'Papaya'],\n",
       "       ['Granadilla', 'Sandia']], dtype='<U10')"
      ]
     },
     "execution_count": 20,
     "metadata": {},
     "output_type": "execute_result"
    }
   ],
   "source": [
    "arreglo_frutas[filas,columnas]"
   ]
  },
  {
   "cell_type": "code",
   "execution_count": 22,
   "metadata": {},
   "outputs": [],
   "source": [
    "arreglo_nuevo = np.array([[\n",
    "    ['Pera','Sandia','Papaya','Naranja'],\n",
    "    ['Manzana','Uva','Sandia','Melon'],\n",
    "    ['Platano','Frutilla','Limon','Mora']\n",
    "],\n",
    "[\n",
    "    ['Naranjilla','Tomate','Pera','Toronja'],\n",
    "    ['Granadilla','Guanabana','Durazno','Babaco'],\n",
    "    ['Frambuesa','Melocoton','Claudia','Capuli']\n",
    "]])"
   ]
  },
  {
   "cell_type": "code",
   "execution_count": 227,
   "metadata": {},
   "outputs": [],
   "source": [
    "primera_dim = np.array([\n",
    "    [0,0],\n",
    "    [1,1]\n",
    "])"
   ]
  },
  {
   "cell_type": "code",
   "execution_count": 228,
   "metadata": {},
   "outputs": [],
   "source": [
    "segunda_dim = np.array([[\n",
    "    [0,0],\n",
    "    [1,1],\n",
    "    [2,2],\n",
    "],[\n",
    "    [0,0],\n",
    "    [1,1],\n",
    "    [2,2]\n",
    "]])"
   ]
  },
  {
   "cell_type": "code",
   "execution_count": 229,
   "metadata": {},
   "outputs": [],
   "source": [
    "tercera_dim = np.array([[\n",
    "    [0,3],\n",
    "    [0,3],\n",
    "    [0,3],\n",
    "],[\n",
    "    [0,3],\n",
    "    [0,3],\n",
    "    [0,3],\n",
    "]])"
   ]
  },
  {
   "cell_type": "code",
   "execution_count": 230,
   "metadata": {},
   "outputs": [
    {
     "ename": "IndexError",
     "evalue": "shape mismatch: indexing arrays could not be broadcast together with shapes (2,2) (2,3,2) (3,2) ",
     "output_type": "error",
     "traceback": [
      "\u001b[1;31m---------------------------------------------------------------------------\u001b[0m",
      "\u001b[1;31mIndexError\u001b[0m                                Traceback (most recent call last)",
      "\u001b[1;32m<ipython-input-230-c426dc59a655>\u001b[0m in \u001b[0;36m<module>\u001b[1;34m()\u001b[0m\n\u001b[1;32m----> 1\u001b[1;33m \u001b[0marreglo_nuevo\u001b[0m\u001b[1;33m[\u001b[0m\u001b[0mprimera_dim\u001b[0m\u001b[1;33m,\u001b[0m\u001b[0msegunda_dim\u001b[0m\u001b[1;33m,\u001b[0m\u001b[0mtercera_dim\u001b[0m\u001b[1;33m]\u001b[0m\u001b[1;33m\u001b[0m\u001b[0m\n\u001b[0m",
      "\u001b[1;31mIndexError\u001b[0m: shape mismatch: indexing arrays could not be broadcast together with shapes (2,2) (2,3,2) (3,2) "
     ]
    }
   ],
   "source": [
    "arreglo_nuevo[primera_dim,segunda_dim,tercera_dim]"
   ]
  },
  {
   "cell_type": "code",
   "execution_count": 183,
   "metadata": {},
   "outputs": [
    {
     "data": {
      "text/plain": [
       "(2, 3, 4)"
      ]
     },
     "execution_count": 183,
     "metadata": {},
     "output_type": "execute_result"
    }
   ],
   "source": [
    "arreglo_nuevo.shape"
   ]
  },
  {
   "cell_type": "code",
   "execution_count": 195,
   "metadata": {},
   "outputs": [
    {
     "data": {
      "text/plain": [
       "'Naranjilla'"
      ]
     },
     "execution_count": 195,
     "metadata": {},
     "output_type": "execute_result"
    }
   ],
   "source": [
    "arreglo_nuevo[1][0][0]"
   ]
  },
  {
   "cell_type": "raw",
   "metadata": {},
   "source": []
  },
  {
   "cell_type": "code",
   "execution_count": null,
   "metadata": {},
   "outputs": [],
   "source": []
  }
 ],
 "metadata": {
  "kernelspec": {
   "display_name": "Python 3",
   "language": "python",
   "name": "python3"
  },
  "language_info": {
   "codemirror_mode": {
    "name": "ipython",
    "version": 3
   },
   "file_extension": ".py",
   "mimetype": "text/x-python",
   "name": "python",
   "nbconvert_exporter": "python",
   "pygments_lexer": "ipython3",
   "version": "3.6.5"
  }
 },
 "nbformat": 4,
 "nbformat_minor": 2
}
