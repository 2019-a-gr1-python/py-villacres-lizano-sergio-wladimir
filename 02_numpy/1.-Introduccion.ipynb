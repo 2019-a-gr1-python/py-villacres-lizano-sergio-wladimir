{
 "cells": [
  {
   "cell_type": "code",
   "execution_count": 3,
   "metadata": {},
   "outputs": [],
   "source": [
    "import numpy as np"
   ]
  },
  {
   "cell_type": "code",
   "execution_count": 4,
   "metadata": {},
   "outputs": [
    {
     "data": {
      "text/plain": [
       "list"
      ]
     },
     "execution_count": 4,
     "metadata": {},
     "output_type": "execute_result"
    }
   ],
   "source": [
    "type([1,5,3])"
   ]
  },
  {
   "cell_type": "code",
   "execution_count": 5,
   "metadata": {},
   "outputs": [],
   "source": [
    "arreglo_np = np.array([1,2,4])"
   ]
  },
  {
   "cell_type": "code",
   "execution_count": 6,
   "metadata": {},
   "outputs": [
    {
     "data": {
      "text/plain": [
       "numpy.ndarray"
      ]
     },
     "execution_count": 6,
     "metadata": {},
     "output_type": "execute_result"
    }
   ],
   "source": [
    "type(arreglo_np)"
   ]
  },
  {
   "cell_type": "code",
   "execution_count": 7,
   "metadata": {},
   "outputs": [],
   "source": [
    "tupla_np = np.array((1,2,3,4,6))"
   ]
  },
  {
   "cell_type": "code",
   "execution_count": 8,
   "metadata": {},
   "outputs": [
    {
     "data": {
      "text/plain": [
       "numpy.ndarray"
      ]
     },
     "execution_count": 8,
     "metadata": {},
     "output_type": "execute_result"
    }
   ],
   "source": [
    "type(tupla_np)"
   ]
  },
  {
   "cell_type": "code",
   "execution_count": 9,
   "metadata": {},
   "outputs": [
    {
     "data": {
      "text/plain": [
       "array([0., 0.])"
      ]
     },
     "execution_count": 9,
     "metadata": {},
     "output_type": "execute_result"
    }
   ],
   "source": [
    "np.zeros((2))"
   ]
  },
  {
   "cell_type": "code",
   "execution_count": 10,
   "metadata": {},
   "outputs": [
    {
     "data": {
      "text/plain": [
       "array([0., 0., 0., 0., 0., 0., 0.])"
      ]
     },
     "execution_count": 10,
     "metadata": {},
     "output_type": "execute_result"
    }
   ],
   "source": [
    "np.zeros((7))"
   ]
  },
  {
   "cell_type": "code",
   "execution_count": 11,
   "metadata": {},
   "outputs": [
    {
     "data": {
      "text/plain": [
       "array([[[0., 0.],\n",
       "        [0., 0.],\n",
       "        [0., 0.]],\n",
       "\n",
       "       [[0., 0.],\n",
       "        [0., 0.],\n",
       "        [0., 0.]],\n",
       "\n",
       "       [[0., 0.],\n",
       "        [0., 0.],\n",
       "        [0., 0.]],\n",
       "\n",
       "       [[0., 0.],\n",
       "        [0., 0.],\n",
       "        [0., 0.]],\n",
       "\n",
       "       [[0., 0.],\n",
       "        [0., 0.],\n",
       "        [0., 0.]]])"
      ]
     },
     "execution_count": 11,
     "metadata": {},
     "output_type": "execute_result"
    }
   ],
   "source": [
    "np.zeros((5,3,2))"
   ]
  },
  {
   "cell_type": "code",
   "execution_count": 12,
   "metadata": {},
   "outputs": [
    {
     "data": {
      "text/plain": [
       "array([[[1., 1., 1.],\n",
       "        [1., 1., 1.]],\n",
       "\n",
       "       [[1., 1., 1.],\n",
       "        [1., 1., 1.]],\n",
       "\n",
       "       [[1., 1., 1.],\n",
       "        [1., 1., 1.]]])"
      ]
     },
     "execution_count": 12,
     "metadata": {},
     "output_type": "execute_result"
    }
   ],
   "source": [
    "np.ones((3,2,3))"
   ]
  },
  {
   "cell_type": "code",
   "execution_count": 13,
   "metadata": {},
   "outputs": [
    {
     "data": {
      "text/plain": [
       "array([[[[0.00000000e+000, 8.02611839e-315, 2.02369289e-320,\n",
       "                      nan, 1.12419047e-311, 1.12418770e-311,\n",
       "          1.12420950e-311, 1.12422263e-311, 1.12422263e-311],\n",
       "         [1.12422263e-311, 1.12422263e-311, 1.12421045e-311,\n",
       "          1.12422263e-311, 1.12422263e-311, 1.12422263e-311,\n",
       "          1.12422263e-311, 1.12422263e-311, 1.12422269e-311],\n",
       "         [1.12422263e-311, 1.12422263e-311, 1.12422263e-311,\n",
       "          1.12421047e-311, 1.12422263e-311, 1.12421052e-311,\n",
       "          1.12421052e-311, 1.12421052e-311, 1.12421046e-311],\n",
       "         [1.12422269e-311, 1.12421052e-311, 1.12421052e-311,\n",
       "          1.12421052e-311, 1.12421052e-311, 1.12422263e-311,\n",
       "          1.12422263e-311, 1.12422263e-311, 1.12422263e-311],\n",
       "         [1.12422263e-311, 1.12422263e-311, 1.12421052e-311,\n",
       "          1.12421052e-311, 1.12422269e-311, 1.12422264e-311,\n",
       "          1.12421052e-311, 1.12422264e-311, 1.12422264e-311]],\n",
       "\n",
       "        [[1.12422264e-311, 1.12421052e-311, 1.12421052e-311,\n",
       "          1.12421052e-311, 1.12421052e-311, 1.12418964e-311,\n",
       "          1.12418875e-311, 1.12419069e-311, 1.12420385e-311],\n",
       "         [1.12419069e-311, 1.12421085e-311, 1.12422264e-311,\n",
       "          1.12417260e-311, 1.12419631e-311, 1.12419631e-311,\n",
       "          1.12419631e-311, 1.12419389e-311, 1.12417258e-311],\n",
       "         [1.12422264e-311, 1.12422264e-311, 1.12421085e-311,\n",
       "          1.12422264e-311, 1.12421103e-311, 1.12422264e-311,\n",
       "          1.12422263e-311, 1.12419632e-311, 1.12417260e-311],\n",
       "         [1.12419633e-311, 1.12422264e-311, 1.12420950e-311,\n",
       "          1.12418778e-311, 1.12422265e-311, 1.12419619e-311,\n",
       "          1.12419693e-311, 1.12419619e-311, 1.12419870e-311],\n",
       "         [1.12419631e-311, 1.12421052e-311, 1.12422269e-311,\n",
       "          1.12420869e-311, 1.12422269e-311, 1.12420978e-311,\n",
       "          1.12422271e-311, 1.12420990e-311, 1.12421043e-311]],\n",
       "\n",
       "        [[1.12421199e-311, 1.12421045e-311, 1.12420954e-311,\n",
       "          1.12422264e-311, 1.12418958e-311, 1.12422260e-311,\n",
       "          1.12417264e-311, 1.12418958e-311, 1.12419870e-311],\n",
       "         [1.12417270e-311, 1.12417269e-311, 1.12422264e-311,\n",
       "          1.12419908e-311, 1.12420979e-311, 1.12420768e-311,\n",
       "          1.12418770e-311, 1.12422264e-311, 1.12419908e-311],\n",
       "         [1.12418770e-311, 1.12417269e-311, 1.12420979e-311,\n",
       "          1.12422264e-311, 1.12417260e-311, 1.12417269e-311,\n",
       "          1.12419631e-311, 1.12420712e-311, 1.12418863e-311],\n",
       "         [1.12421103e-311, 1.12419693e-311, 1.12419061e-311,\n",
       "          1.12417260e-311, 1.12419631e-311, 1.12419058e-311,\n",
       "          1.12419693e-311, 1.12419632e-311, 1.12417260e-311],\n",
       "         [1.12421085e-311, 1.12419631e-311, 1.12418863e-311,\n",
       "          1.12422264e-311, 1.12419908e-311, 1.12421303e-311,\n",
       "          1.12418863e-311, 1.12419693e-311, 1.12419632e-311]],\n",
       "\n",
       "        [[1.12419908e-311, 1.12419103e-311, 1.12421085e-311,\n",
       "          1.12418863e-311, 1.12421085e-311, 1.12419693e-311,\n",
       "          1.12419632e-311, 1.12418863e-311, 1.12417260e-311],\n",
       "         [1.12419631e-311, 1.12421085e-311, 1.12418863e-311,\n",
       "          1.12419631e-311, 1.12418863e-311, 1.12422264e-311,\n",
       "          1.12417269e-311, 1.12421211e-311, 1.12417257e-311],\n",
       "         [1.12418767e-311, 1.12418879e-311, 1.12418767e-311,\n",
       "          1.12417257e-311, 1.12418879e-311, 1.12418767e-311,\n",
       "          1.12417258e-311, 1.12418767e-311, 1.12419226e-311],\n",
       "         [1.12419226e-311, 1.12418767e-311, 1.12420696e-311,\n",
       "          1.12421052e-311, 1.12417265e-311, 1.12419693e-311,\n",
       "          1.12418767e-311, 1.12417257e-311, 1.12418952e-311],\n",
       "         [1.12417265e-311, 1.12421052e-311, 1.12421052e-311,\n",
       "          1.12418952e-311, 1.12419069e-311, 1.12418767e-311,\n",
       "          1.12417257e-311, 1.12420385e-311, 1.12420950e-311]]],\n",
       "\n",
       "\n",
       "       [[[1.12421052e-311, 1.12421052e-311, 1.12422271e-311,\n",
       "          1.12418784e-311, 1.12417258e-311, 1.12419069e-311,\n",
       "          1.12418952e-311, 1.12421052e-311, 1.12417257e-311],\n",
       "         [1.12418767e-311, 1.12417270e-311, 1.12419229e-311,\n",
       "          1.12422264e-311, 1.12422059e-311, 1.12422264e-311,\n",
       "          1.12421011e-311, 1.12417257e-311, 1.12418767e-311],\n",
       "         [1.12418770e-311, 1.12417270e-311, 1.12419229e-311,\n",
       "          1.12418955e-311, 1.12417265e-311, 1.12419693e-311,\n",
       "          1.12418767e-311, 1.12417257e-311, 1.12417264e-311],\n",
       "         [1.12418770e-311, 1.12419870e-311, 1.12421052e-311,\n",
       "          1.12418955e-311, 1.12418770e-311, 1.12420936e-311,\n",
       "          1.12417270e-311, 1.12419229e-311, 1.12419051e-311],\n",
       "         [1.12418955e-311, 1.12422264e-311, 1.12418770e-311,\n",
       "          1.12417270e-311, 1.12419229e-311, 1.12421103e-311,\n",
       "          1.12421052e-311, 1.12419058e-311, 1.12419051e-311]],\n",
       "\n",
       "        [[1.12421052e-311, 1.12418955e-311, 1.12419693e-311,\n",
       "          1.12419631e-311, 1.12418770e-311, 1.12417270e-311,\n",
       "          1.12419229e-311, 1.12419051e-311, 1.12418955e-311],\n",
       "         [1.12422264e-311, 1.12418770e-311, 1.12417270e-311,\n",
       "          1.12419229e-311, 1.12421103e-311, 1.12421052e-311,\n",
       "          1.12419058e-311, 1.12419051e-311, 1.12422059e-311],\n",
       "         [1.12422059e-311, 1.12422264e-311, 1.12421011e-311,\n",
       "          1.12417257e-311, 1.12418767e-311, 1.12418770e-311,\n",
       "          1.12417270e-311, 1.12419229e-311, 1.12418955e-311],\n",
       "         [1.12417265e-311, 1.12419693e-311, 1.12418767e-311,\n",
       "          1.12417257e-311, 1.12421052e-311, 1.12418955e-311,\n",
       "          1.12417270e-311, 1.12419693e-311, 1.12419631e-311],\n",
       "         [1.12418863e-311, 1.12418863e-311, 1.12418770e-311,\n",
       "          1.12417270e-311, 1.12419229e-311, 1.12419051e-311,\n",
       "          1.12418955e-311, 1.12417270e-311, 1.12422264e-311]],\n",
       "\n",
       "        [[1.12418863e-311, 1.12418863e-311, 1.12418770e-311,\n",
       "          1.12417270e-311, 1.12419229e-311, 1.12421103e-311,\n",
       "          1.12421052e-311, 1.12419058e-311, 1.12419051e-311],\n",
       "         [1.12422059e-311, 1.12422059e-311, 1.12422264e-311,\n",
       "          1.12421050e-311, 1.12417257e-311, 1.12418767e-311,\n",
       "          1.12417270e-311, 1.12419229e-311, 1.12418955e-311],\n",
       "         [1.12417265e-311, 1.12419693e-311, 1.12418767e-311,\n",
       "          1.12417257e-311, 1.12419974e-311, 1.12417270e-311,\n",
       "          1.12417269e-311, 1.12417270e-311, 8.02853117e-315],\n",
       "         [1.12417269e-311, 1.12417270e-311, 1.12422264e-311,\n",
       "          1.12417270e-311, 8.02853117e-315, 1.12419974e-311,\n",
       "          1.12417258e-311, 1.12417270e-311, 1.12417258e-311],\n",
       "         [8.02853117e-315, 1.12418879e-311, 1.12418770e-311,\n",
       "          1.12419974e-311, 1.12421052e-311, 1.12418955e-311,\n",
       "          1.12419693e-311, 1.12419631e-311, 1.12418770e-311]],\n",
       "\n",
       "        [[1.12417270e-311, 1.12419229e-311, 1.12419051e-311,\n",
       "          1.12418955e-311, 1.12422264e-311, 1.12418770e-311,\n",
       "          1.12417270e-311, 1.12419229e-311, 1.12418879e-311],\n",
       "         [1.12417258e-311, 1.12421103e-311, 1.12421052e-311,\n",
       "          1.12419058e-311, 1.12419051e-311, 8.02853133e-315,\n",
       "          1.12417269e-311, 1.12419974e-311, 1.12418879e-311],\n",
       "         [8.02853117e-315, 1.12418879e-311, 1.12422059e-311,\n",
       "          1.12422060e-311, 1.12422264e-311, 1.12420696e-311,\n",
       "          1.12417257e-311, 1.12418767e-311, 1.12417270e-311],\n",
       "         [1.12419229e-311, 1.12418955e-311, 1.12417265e-311,\n",
       "          1.12419693e-311, 1.12418767e-311, 1.12417257e-311,\n",
       "          1.12418879e-311, 1.12418770e-311, 1.12417270e-311],\n",
       "         [1.12421052e-311, 1.12418955e-311, 1.12419693e-311,\n",
       "          1.12419631e-311, 1.12418770e-311, 1.12419229e-311,\n",
       "          1.12419051e-311, 1.12418955e-311, 1.12422264e-311]]],\n",
       "\n",
       "\n",
       "       [[[1.12418770e-311, 1.12419229e-311, 1.12418879e-311,\n",
       "          1.12417258e-311, 1.12421103e-311, 1.12421052e-311,\n",
       "          1.12419058e-311, 1.12419051e-311, 8.02853133e-315],\n",
       "         [1.12417269e-311, 1.12417270e-311, 1.12418879e-311,\n",
       "          8.02853117e-315, 1.12418879e-311, 1.12422060e-311,\n",
       "          1.12419631e-311, 1.12422060e-311, 1.12422264e-311],\n",
       "         [1.12419631e-311, 1.12422060e-311, 1.12422264e-311,\n",
       "          1.12419631e-311, 1.12422060e-311, 1.12422264e-311,\n",
       "          1.12419633e-311, 1.12419632e-311, 1.12422059e-311],\n",
       "         [1.12421052e-311, 1.12419632e-311, 1.12422059e-311,\n",
       "          1.12421052e-311, 1.12419631e-311, 1.12422059e-311,\n",
       "          1.12422265e-311, 1.12419631e-311, 1.12422059e-311],\n",
       "         [1.12421052e-311, 1.12419632e-311, 1.12422059e-311,\n",
       "          1.12421052e-311, 1.12419631e-311, 1.12422059e-311,\n",
       "          1.12422265e-311, 1.12422265e-311, 1.12418958e-311]],\n",
       "\n",
       "        [[1.12421049e-311, 1.12418863e-311, 8.02853117e-315,\n",
       "          1.12417269e-311, 1.12418958e-311, 1.12418863e-311,\n",
       "          1.12417269e-311, 1.12418958e-311, 1.12418863e-311],\n",
       "         [1.12422265e-311, 1.12418958e-311, 1.12418863e-311,\n",
       "          1.12418863e-311, 8.02853133e-315, 1.12418958e-311,\n",
       "          1.12418863e-311, 1.12418863e-311, 8.02853133e-315],\n",
       "         [1.12418958e-311, 1.12419632e-311, 1.12421201e-311,\n",
       "          1.12420979e-311, 1.12419908e-311, 1.12417270e-311,\n",
       "          1.12418769e-311, 1.12422260e-311, 1.12419908e-311],\n",
       "         [1.12419631e-311, 1.12419908e-311, 1.12417258e-311,\n",
       "          1.12420869e-311, 1.12419636e-311, 1.12419908e-311,\n",
       "          1.12417260e-311, 1.12420979e-311, 1.12420978e-311],\n",
       "         [1.12420979e-311, 1.12419636e-311, 1.12419287e-311,\n",
       "          8.02853117e-315, 1.12419636e-311, 8.02853133e-315,\n",
       "          1.12418785e-311, 1.12419693e-311, 1.12419633e-311]],\n",
       "\n",
       "        [[1.12419636e-311, 1.12418879e-311, 1.12421052e-311,\n",
       "          1.12417269e-311, 1.12417269e-311, 1.12419636e-311,\n",
       "          1.12421052e-311, 1.12417258e-311, 1.12420979e-311],\n",
       "         [1.12418785e-311, 1.12420979e-311, 1.12417270e-311,\n",
       "          1.12422265e-311, 1.12419693e-311, 1.12419631e-311,\n",
       "          1.12419908e-311, 1.12417260e-311, 1.12419631e-311],\n",
       "         [1.12421052e-311, 1.12418785e-311, 1.12419632e-311,\n",
       "          1.12421052e-311, 1.12419287e-311, 1.12418951e-311,\n",
       "          1.12418785e-311, 1.12417258e-311, 1.12418879e-311],\n",
       "         [1.12421201e-311, 1.12419908e-311, 1.12417270e-311,\n",
       "          1.12418785e-311, 1.12417260e-311, 1.12417270e-311,\n",
       "          1.12418769e-311, 1.12419631e-311, 1.12419693e-311],\n",
       "         [1.12419632e-311, 1.12418879e-311, 1.12419631e-311,\n",
       "          1.12417269e-311, 1.12418879e-311, 1.12417270e-311,\n",
       "          1.12419631e-311, 1.12420977e-311, 1.12419631e-311]],\n",
       "\n",
       "        [[1.12420977e-311, 1.12417258e-311, 1.12419693e-311,\n",
       "          1.12419631e-311, 1.12418879e-311, 1.12419631e-311,\n",
       "          1.12421052e-311, 1.12419633e-311, 1.12422265e-311],\n",
       "         [1.12417269e-311, 1.12421052e-311, 1.12417270e-311,\n",
       "          1.12419287e-311, 1.12418879e-311, 1.12421052e-311,\n",
       "          1.12419693e-311, 1.12418966e-311, 1.12422265e-311],\n",
       "         [1.12418863e-311, 8.02853133e-315, 1.12421052e-311,\n",
       "          1.12418863e-311, 1.12419287e-311, 8.02853133e-315,\n",
       "          8.02853133e-315, 1.12418785e-311, 8.02853133e-315],\n",
       "         [1.12422265e-311, 1.12418785e-311, 1.12419287e-311,\n",
       "          1.12418785e-311, 9.88131292e-324, 1.12420698e-311,\n",
       "          1.12420698e-311, 4.24335881e+175, 1.12420867e-311],\n",
       "         [6.01346953e-154, 5.98131493e-154, 3.90447226e-312,\n",
       "          9.10016492e+276, 8.02633602e-315, 6.22651684e+228,\n",
       "          2.79660182e-152, 4.20155167e-312, 2.98812922e-260]]]])"
      ]
     },
     "execution_count": 13,
     "metadata": {},
     "output_type": "execute_result"
    }
   ],
   "source": [
    "np.empty((3,4,5,9))"
   ]
  },
  {
   "cell_type": "code",
   "execution_count": 14,
   "metadata": {},
   "outputs": [
    {
     "data": {
      "text/plain": [
       "array([[1., 0., 0., 0., 0., 0., 0.],\n",
       "       [0., 1., 0., 0., 0., 0., 0.],\n",
       "       [0., 0., 1., 0., 0., 0., 0.],\n",
       "       [0., 0., 0., 1., 0., 0., 0.],\n",
       "       [0., 0., 0., 0., 1., 0., 0.],\n",
       "       [0., 0., 0., 0., 0., 1., 0.],\n",
       "       [0., 0., 0., 0., 0., 0., 1.]])"
      ]
     },
     "execution_count": 14,
     "metadata": {},
     "output_type": "execute_result"
    }
   ],
   "source": [
    "np.eye(7)"
   ]
  },
  {
   "cell_type": "code",
   "execution_count": 15,
   "metadata": {},
   "outputs": [
    {
     "data": {
      "text/plain": [
       "array([ 0,  1,  2,  3,  4,  5,  6,  7,  8,  9, 10, 11, 12])"
      ]
     },
     "execution_count": 15,
     "metadata": {},
     "output_type": "execute_result"
    }
   ],
   "source": [
    "np.arange(13)"
   ]
  },
  {
   "cell_type": "code",
   "execution_count": 16,
   "metadata": {},
   "outputs": [
    {
     "data": {
      "text/plain": [
       "array([3, 4, 5, 6, 7, 8, 9])"
      ]
     },
     "execution_count": 16,
     "metadata": {},
     "output_type": "execute_result"
    }
   ],
   "source": [
    "np.arange(3,10) "
   ]
  },
  {
   "cell_type": "code",
   "execution_count": 17,
   "metadata": {},
   "outputs": [
    {
     "name": "stdout",
     "output_type": "stream",
     "text": [
      "[ 0  2  4  6  8 10 12 14 16 18]\n"
     ]
    }
   ],
   "source": [
    "arreglo_pares = np.arange(0,20,2)  \n",
    "print(arreglo_pares)"
   ]
  },
  {
   "cell_type": "code",
   "execution_count": 18,
   "metadata": {},
   "outputs": [
    {
     "data": {
      "text/plain": [
       "10"
      ]
     },
     "execution_count": 18,
     "metadata": {},
     "output_type": "execute_result"
    }
   ],
   "source": [
    "arreglo_pares.size"
   ]
  },
  {
   "cell_type": "code",
   "execution_count": 19,
   "metadata": {},
   "outputs": [
    {
     "data": {
      "text/plain": [
       "(10,)"
      ]
     },
     "execution_count": 19,
     "metadata": {},
     "output_type": "execute_result"
    }
   ],
   "source": [
    "arreglo_pares.shape"
   ]
  },
  {
   "cell_type": "code",
   "execution_count": 20,
   "metadata": {},
   "outputs": [
    {
     "data": {
      "text/plain": [
       "array([[ 0,  2],\n",
       "       [ 4,  6],\n",
       "       [ 8, 10],\n",
       "       [12, 14],\n",
       "       [16, 18]])"
      ]
     },
     "execution_count": 20,
     "metadata": {},
     "output_type": "execute_result"
    }
   ],
   "source": [
    "arreglo_pares.reshape((5,2))"
   ]
  },
  {
   "cell_type": "code",
   "execution_count": 21,
   "metadata": {},
   "outputs": [
    {
     "data": {
      "text/plain": [
       "array([[[ 0,  1],\n",
       "        [ 2,  3]],\n",
       "\n",
       "       [[ 4,  5],\n",
       "        [ 6,  7]],\n",
       "\n",
       "       [[ 8,  9],\n",
       "        [10, 11]],\n",
       "\n",
       "       [[12, 13],\n",
       "        [14, 15]],\n",
       "\n",
       "       [[16, 17],\n",
       "        [18, 19]],\n",
       "\n",
       "       [[20, 21],\n",
       "        [22, 23]]])"
      ]
     },
     "execution_count": 21,
     "metadata": {},
     "output_type": "execute_result"
    }
   ],
   "source": [
    "np.arange(24).reshape((6,2,2))"
   ]
  },
  {
   "cell_type": "code",
   "execution_count": 50,
   "metadata": {},
   "outputs": [
    {
     "data": {
      "text/plain": [
       "array([[    0,     1,     2, ...,     7,     8,     9],\n",
       "       [   10,    11,    12, ...,    17,    18,    19],\n",
       "       [   20,    21,    22, ...,    27,    28,    29],\n",
       "       ...,\n",
       "       [99970, 99971, 99972, ..., 99977, 99978, 99979],\n",
       "       [99980, 99981, 99982, ..., 99987, 99988, 99989],\n",
       "       [99990, 99991, 99992, ..., 99997, 99998, 99999]])"
      ]
     },
     "execution_count": 50,
     "metadata": {},
     "output_type": "execute_result"
    }
   ],
   "source": [
    "np.arange(100000).reshape(102000,10)"
   ]
  },
  {
   "cell_type": "code",
   "execution_count": 55,
   "metadata": {},
   "outputs": [
    {
     "data": {
      "text/plain": [
       "array([[    0,     1,     2, ...,     7,     8,     9],\n",
       "       [   10,    11,    12, ...,    17,    18,    19],\n",
       "       [   20,    21,    22, ...,    27,    28,    29],\n",
       "       ...,\n",
       "       [99970, 99971, 99972, ..., 99977, 99978, 99979],\n",
       "       [99980, 99981, 99982, ..., 99987, 99988, 99989],\n",
       "       [99990, 99991, 99992, ..., 99997, 99998, 99999]])"
      ]
     },
     "execution_count": 55,
     "metadata": {},
     "output_type": "execute_result"
    }
   ],
   "source": [
    "np.arange(100000).reshape(10000,10)"
   ]
  },
  {
   "cell_type": "code",
   "execution_count": 22,
   "metadata": {},
   "outputs": [
    {
     "data": {
      "text/plain": [
       "array([[    0,     1,     2, ...,     7,     8,     9],\n",
       "       [   10,    11,    12, ...,    17,    18,    19],\n",
       "       [   20,    21,    22, ...,    27,    28,    29],\n",
       "       ...,\n",
       "       [99970, 99971, 99972, ..., 99977, 99978, 99979],\n",
       "       [99980, 99981, 99982, ..., 99987, 99988, 99989],\n",
       "       [99990, 99991, 99992, ..., 99997, 99998, 99999]])"
      ]
     },
     "execution_count": 22,
     "metadata": {},
     "output_type": "execute_result"
    }
   ],
   "source": [
    "np.arange(100000).reshape(10000,10)"
   ]
  },
  {
   "cell_type": "code",
   "execution_count": 23,
   "metadata": {},
   "outputs": [],
   "source": [
    "a = np.array([10,10,10])\n",
    "b = np.array((5,5,5))"
   ]
  },
  {
   "cell_type": "code",
   "execution_count": 24,
   "metadata": {},
   "outputs": [
    {
     "data": {
      "text/plain": [
       "array([15, 15, 15])"
      ]
     },
     "execution_count": 24,
     "metadata": {},
     "output_type": "execute_result"
    }
   ],
   "source": [
    "# Suma\n",
    "a + b"
   ]
  },
  {
   "cell_type": "code",
   "execution_count": 25,
   "metadata": {},
   "outputs": [
    {
     "data": {
      "text/plain": [
       "array([5, 5, 5])"
      ]
     },
     "execution_count": 25,
     "metadata": {},
     "output_type": "execute_result"
    }
   ],
   "source": [
    "# Resta\n",
    "a-b"
   ]
  },
  {
   "cell_type": "code",
   "execution_count": 26,
   "metadata": {},
   "outputs": [
    {
     "data": {
      "text/plain": [
       "array([50, 50, 50])"
      ]
     },
     "execution_count": 26,
     "metadata": {},
     "output_type": "execute_result"
    }
   ],
   "source": [
    "# Multiplicacion\n",
    "a * b"
   ]
  },
  {
   "cell_type": "code",
   "execution_count": 27,
   "metadata": {},
   "outputs": [
    {
     "data": {
      "text/plain": [
       "array([2., 2., 2.])"
      ]
     },
     "execution_count": 27,
     "metadata": {},
     "output_type": "execute_result"
    }
   ],
   "source": [
    "# Division\n",
    "a / b"
   ]
  },
  {
   "cell_type": "code",
   "execution_count": 28,
   "metadata": {},
   "outputs": [
    {
     "data": {
      "text/plain": [
       "array([0, 0, 0], dtype=int32)"
      ]
     },
     "execution_count": 28,
     "metadata": {},
     "output_type": "execute_result"
    }
   ],
   "source": [
    "# Division\n",
    "a % b"
   ]
  },
  {
   "cell_type": "code",
   "execution_count": 29,
   "metadata": {},
   "outputs": [
    {
     "data": {
      "text/plain": [
       "array([5., 5., 5.])"
      ]
     },
     "execution_count": 29,
     "metadata": {},
     "output_type": "execute_result"
    }
   ],
   "source": [
    "a / 2"
   ]
  },
  {
   "cell_type": "code",
   "execution_count": 30,
   "metadata": {},
   "outputs": [
    {
     "data": {
      "text/plain": [
       "array([0, 0, 0], dtype=int32)"
      ]
     },
     "execution_count": 30,
     "metadata": {},
     "output_type": "execute_result"
    }
   ],
   "source": [
    "a % 2"
   ]
  },
  {
   "cell_type": "code",
   "execution_count": 31,
   "metadata": {},
   "outputs": [
    {
     "data": {
      "text/plain": [
       "array([20, 20, 20])"
      ]
     },
     "execution_count": 31,
     "metadata": {},
     "output_type": "execute_result"
    }
   ],
   "source": [
    "a + 10"
   ]
  },
  {
   "cell_type": "code",
   "execution_count": 32,
   "metadata": {},
   "outputs": [
    {
     "data": {
      "text/plain": [
       "array([7, 7, 7])"
      ]
     },
     "execution_count": 32,
     "metadata": {},
     "output_type": "execute_result"
    }
   ],
   "source": [
    "a - 3"
   ]
  },
  {
   "cell_type": "code",
   "execution_count": 33,
   "metadata": {},
   "outputs": [
    {
     "data": {
      "text/plain": [
       "array([20, 20, 20])"
      ]
     },
     "execution_count": 33,
     "metadata": {},
     "output_type": "execute_result"
    }
   ],
   "source": [
    "a * 2"
   ]
  },
  {
   "cell_type": "code",
   "execution_count": 34,
   "metadata": {},
   "outputs": [
    {
     "data": {
      "text/plain": [
       "array([ 0,  1,  2,  3,  4,  5,  6,  7,  8,  9, 10, 11])"
      ]
     },
     "execution_count": 34,
     "metadata": {},
     "output_type": "execute_result"
    }
   ],
   "source": [
    "arreglo_doce = np.arange(12)\n",
    "arreglo_doce"
   ]
  },
  {
   "cell_type": "code",
   "execution_count": 35,
   "metadata": {},
   "outputs": [
    {
     "data": {
      "text/plain": [
       "array([False, False, False, False, False, False,  True,  True,  True,\n",
       "        True,  True,  True])"
      ]
     },
     "execution_count": 35,
     "metadata": {},
     "output_type": "execute_result"
    }
   ],
   "source": [
    "arreglo_doce > 5"
   ]
  },
  {
   "cell_type": "code",
   "execution_count": 36,
   "metadata": {},
   "outputs": [
    {
     "data": {
      "text/plain": [
       "array([[0, 1],\n",
       "       [2, 3]])"
      ]
     },
     "execution_count": 36,
     "metadata": {},
     "output_type": "execute_result"
    }
   ],
   "source": [
    "A = np.arange(4).reshape((2,2))\n",
    "A"
   ]
  },
  {
   "cell_type": "code",
   "execution_count": 37,
   "metadata": {},
   "outputs": [
    {
     "data": {
      "text/plain": [
       "array([[4, 5],\n",
       "       [6, 7]])"
      ]
     },
     "execution_count": 37,
     "metadata": {},
     "output_type": "execute_result"
    }
   ],
   "source": [
    "B = np.arange(4,8).reshape((2,2))\n",
    "B"
   ]
  },
  {
   "cell_type": "code",
   "execution_count": 38,
   "metadata": {},
   "outputs": [
    {
     "data": {
      "text/plain": [
       "array([[ 0,  5],\n",
       "       [12, 21]])"
      ]
     },
     "execution_count": 38,
     "metadata": {},
     "output_type": "execute_result"
    }
   ],
   "source": [
    "A * B"
   ]
  },
  {
   "cell_type": "code",
   "execution_count": 39,
   "metadata": {},
   "outputs": [
    {
     "data": {
      "text/plain": [
       "array([[ 6,  7],\n",
       "       [26, 31]])"
      ]
     },
     "execution_count": 39,
     "metadata": {},
     "output_type": "execute_result"
    }
   ],
   "source": [
    "A.dot(B)"
   ]
  },
  {
   "cell_type": "code",
   "execution_count": 40,
   "metadata": {},
   "outputs": [
    {
     "data": {
      "text/plain": [
       "array([[ 6,  7],\n",
       "       [26, 31]])"
      ]
     },
     "execution_count": 40,
     "metadata": {},
     "output_type": "execute_result"
    }
   ],
   "source": [
    "RESULTADO = np.arange(4).reshape(2,2)\n",
    "np.dot(A,B,RESULTADO)"
   ]
  },
  {
   "cell_type": "code",
   "execution_count": 41,
   "metadata": {},
   "outputs": [],
   "source": [
    "arreglo_tres = np.arange(3) \n",
    "arreglo_tres +=2"
   ]
  },
  {
   "cell_type": "code",
   "execution_count": 42,
   "metadata": {},
   "outputs": [
    {
     "data": {
      "text/plain": [
       "9"
      ]
     },
     "execution_count": 42,
     "metadata": {},
     "output_type": "execute_result"
    }
   ],
   "source": [
    "arreglo_tres.sum()"
   ]
  },
  {
   "cell_type": "code",
   "execution_count": 43,
   "metadata": {},
   "outputs": [
    {
     "data": {
      "text/plain": [
       "2"
      ]
     },
     "execution_count": 43,
     "metadata": {},
     "output_type": "execute_result"
    }
   ],
   "source": [
    "arreglo_tres.min()"
   ]
  },
  {
   "cell_type": "code",
   "execution_count": 44,
   "metadata": {},
   "outputs": [
    {
     "data": {
      "text/plain": [
       "4"
      ]
     },
     "execution_count": 44,
     "metadata": {},
     "output_type": "execute_result"
    }
   ],
   "source": [
    "arreglo_tres.max()"
   ]
  },
  {
   "cell_type": "code",
   "execution_count": 45,
   "metadata": {},
   "outputs": [
    {
     "data": {
      "text/plain": [
       "array([[[ 0,  1],\n",
       "        [ 2,  3]],\n",
       "\n",
       "       [[ 4,  5],\n",
       "        [ 6,  7]],\n",
       "\n",
       "       [[ 8,  9],\n",
       "        [10, 11]],\n",
       "\n",
       "       [[12, 13],\n",
       "        [14, 15]],\n",
       "\n",
       "       [[16, 17],\n",
       "        [18, 19]],\n",
       "\n",
       "       [[20, 21],\n",
       "        [22, 23]]])"
      ]
     },
     "execution_count": 45,
     "metadata": {},
     "output_type": "execute_result"
    }
   ],
   "source": [
    "arreglo_tres_cuatro = np.arange(24).reshape(6,2,2)\n",
    "arreglo_tres_cuatro"
   ]
  },
  {
   "cell_type": "code",
   "execution_count": 46,
   "metadata": {},
   "outputs": [
    {
     "data": {
      "text/plain": [
       "array([[60, 66],\n",
       "       [72, 78]])"
      ]
     },
     "execution_count": 46,
     "metadata": {},
     "output_type": "execute_result"
    }
   ],
   "source": [
    "arreglo_tres_cuatro.sum(axis=0)"
   ]
  },
  {
   "cell_type": "code",
   "execution_count": 47,
   "metadata": {},
   "outputs": [
    {
     "data": {
      "text/plain": [
       "array([[ 2,  4],\n",
       "       [10, 12],\n",
       "       [18, 20],\n",
       "       [26, 28],\n",
       "       [34, 36],\n",
       "       [42, 44]])"
      ]
     },
     "execution_count": 47,
     "metadata": {},
     "output_type": "execute_result"
    }
   ],
   "source": [
    "arreglo_tres_cuatro.sum(axis=1)"
   ]
  },
  {
   "cell_type": "code",
   "execution_count": 48,
   "metadata": {},
   "outputs": [
    {
     "data": {
      "text/plain": [
       "array([[ 1,  5],\n",
       "       [ 9, 13],\n",
       "       [17, 21],\n",
       "       [25, 29],\n",
       "       [33, 37],\n",
       "       [41, 45]])"
      ]
     },
     "execution_count": 48,
     "metadata": {},
     "output_type": "execute_result"
    }
   ],
   "source": [
    "arreglo_tres_cuatro.sum(axis=2)"
   ]
  },
  {
   "cell_type": "code",
   "execution_count": 49,
   "metadata": {},
   "outputs": [
    {
     "data": {
      "text/plain": [
       "276"
      ]
     },
     "execution_count": 49,
     "metadata": {},
     "output_type": "execute_result"
    }
   ],
   "source": [
    "arreglo_tres_cuatro.sum()"
   ]
  },
  {
   "cell_type": "code",
   "execution_count": null,
   "metadata": {},
   "outputs": [],
   "source": []
  },
  {
   "cell_type": "code",
   "execution_count": null,
   "metadata": {},
   "outputs": [],
   "source": []
  },
  {
   "cell_type": "code",
   "execution_count": null,
   "metadata": {},
   "outputs": [],
   "source": []
  },
  {
   "cell_type": "code",
   "execution_count": null,
   "metadata": {},
   "outputs": [],
   "source": []
  }
 ],
 "metadata": {
  "kernelspec": {
   "display_name": "Python 3",
   "language": "python",
   "name": "python3"
  },
  "language_info": {
   "codemirror_mode": {
    "name": "ipython",
    "version": 3
   },
   "file_extension": ".py",
   "mimetype": "text/x-python",
   "name": "python",
   "nbconvert_exporter": "python",
   "pygments_lexer": "ipython3",
   "version": "3.6.5"
  }
 },
 "nbformat": 4,
 "nbformat_minor": 2
}
