{
 "cells": [
  {
   "cell_type": "markdown",
   "metadata": {},
   "source": [
    " # Clases"
   ]
  },
  {
   "cell_type": "code",
   "execution_count": 1,
   "metadata": {},
   "outputs": [],
   "source": [
    "class Nada:\n",
    "    pass"
   ]
  },
  {
   "cell_type": "code",
   "execution_count": 2,
   "metadata": {},
   "outputs": [],
   "source": [
    "una_nada = Nada()"
   ]
  },
  {
   "cell_type": "code",
   "execution_count": 3,
   "metadata": {},
   "outputs": [
    {
     "name": "stdout",
     "output_type": "stream",
     "text": [
      "<__main__.Nada object at 0x000001FFA9A7B550>\n"
     ]
    }
   ],
   "source": [
    "print(una_nada)"
   ]
  },
  {
   "cell_type": "code",
   "execution_count": 4,
   "metadata": {},
   "outputs": [
    {
     "name": "stdout",
     "output_type": "stream",
     "text": [
      "<class '__main__.Nada'>\n"
     ]
    }
   ],
   "source": [
    "print(type(una_nada))"
   ]
  },
  {
   "cell_type": "code",
   "execution_count": 35,
   "metadata": {},
   "outputs": [],
   "source": [
    "class Auto:\n",
    "    color='negro' #Propiedad publicas\n",
    "    placa = ''\n",
    "    __numero_calculo = 2345\n",
    "    def __init__(self,placa): # Constructor\n",
    "        print('Estamos inicializando el Auto')\n",
    "        self.placa = placa\n",
    "    def __str__(self): # OVERRIDE \n",
    "        return f'Color: {self.color} Placa: {self.placa}'\n",
    "    def calcular_impuesto(self,anio):\n",
    "        total_pagar = self.__calculo(anio)\n",
    "        print(f'Su calculo es: {total_pagar}') \n",
    "    def __calculo(self,anio): #metodo privado\n",
    "        return(anio/2)+1024"
   ]
  },
  {
   "cell_type": "code",
   "execution_count": 36,
   "metadata": {},
   "outputs": [
    {
     "name": "stdout",
     "output_type": "stream",
     "text": [
      "Estamos inicializando el Auto\n"
     ]
    }
   ],
   "source": [
    "coche = Auto('PZA-123')"
   ]
  },
  {
   "cell_type": "code",
   "execution_count": 37,
   "metadata": {},
   "outputs": [
    {
     "name": "stdout",
     "output_type": "stream",
     "text": [
      "Color: negro Placa: PZA-123\n"
     ]
    }
   ],
   "source": [
    "print(coche)"
   ]
  },
  {
   "cell_type": "code",
   "execution_count": 38,
   "metadata": {},
   "outputs": [
    {
     "name": "stdout",
     "output_type": "stream",
     "text": [
      "Su calculo es: 2031.5\n"
     ]
    }
   ],
   "source": [
    "coche.calcular_impuesto(2015)"
   ]
  },
  {
   "cell_type": "code",
   "execution_count": 39,
   "metadata": {},
   "outputs": [
    {
     "data": {
      "text/plain": [
       "2345"
      ]
     },
     "execution_count": 39,
     "metadata": {},
     "output_type": "execute_result"
    }
   ],
   "source": [
    "coche._Auto__numero_calculo"
   ]
  },
  {
   "cell_type": "code",
   "execution_count": null,
   "metadata": {},
   "outputs": [],
   "source": []
  },
  {
   "cell_type": "code",
   "execution_count": null,
   "metadata": {},
   "outputs": [],
   "source": []
  }
 ],
 "metadata": {
  "kernelspec": {
   "display_name": "Python 3",
   "language": "python",
   "name": "python3"
  },
  "language_info": {
   "codemirror_mode": {
    "name": "ipython",
    "version": 3
   },
   "file_extension": ".py",
   "mimetype": "text/x-python",
   "name": "python",
   "nbconvert_exporter": "python",
   "pygments_lexer": "ipython3",
   "version": "3.6.5"
  }
 },
 "nbformat": 4,
 "nbformat_minor": 2
}
