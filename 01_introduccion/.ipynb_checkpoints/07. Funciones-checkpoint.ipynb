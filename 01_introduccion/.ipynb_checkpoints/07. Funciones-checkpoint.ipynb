{
 "cells": [
  {
   "cell_type": "markdown",
   "metadata": {},
   "source": [
    "# Funciones"
   ]
  },
  {
   "cell_type": "code",
   "execution_count": 20,
   "metadata": {},
   "outputs": [],
   "source": [
    "def hola_mundo():\n",
    "    print('Hola Mundo')"
   ]
  },
  {
   "cell_type": "code",
   "execution_count": 21,
   "metadata": {},
   "outputs": [
    {
     "data": {
      "text/plain": [
       "function"
      ]
     },
     "execution_count": 21,
     "metadata": {},
     "output_type": "execute_result"
    }
   ],
   "source": [
    "type(hola_mundo)"
   ]
  },
  {
   "cell_type": "code",
   "execution_count": 22,
   "metadata": {},
   "outputs": [
    {
     "name": "stdout",
     "output_type": "stream",
     "text": [
      "Hola Mundo\n"
     ]
    }
   ],
   "source": [
    "hola_mundo()"
   ]
  },
  {
   "cell_type": "code",
   "execution_count": 23,
   "metadata": {},
   "outputs": [],
   "source": [
    "def sumar_dos_numeros(num_uno,num_dos): #parametros requeridos\n",
    "    return num_uno + num_dos"
   ]
  },
  {
   "cell_type": "code",
   "execution_count": 24,
   "metadata": {},
   "outputs": [
    {
     "name": "stdout",
     "output_type": "stream",
     "text": [
      "3\n",
      "<class 'int'>\n"
     ]
    }
   ],
   "source": [
    "print(sumar_dos_numeros(1,2))\n",
    "print(type(sumar_dos_numeros(1,2)))"
   ]
  },
  {
   "cell_type": "code",
   "execution_count": 25,
   "metadata": {},
   "outputs": [],
   "source": [
    "def imprimir_universidad(nombre = 'EPN'): #parametros Opcionales\n",
    "    print(f\"Universidad: {nombre}\")"
   ]
  },
  {
   "cell_type": "code",
   "execution_count": 26,
   "metadata": {},
   "outputs": [
    {
     "name": "stdout",
     "output_type": "stream",
     "text": [
      "Universidad: EPN\n"
     ]
    }
   ],
   "source": [
    "imprimir_universidad()"
   ]
  },
  {
   "cell_type": "code",
   "execution_count": 27,
   "metadata": {},
   "outputs": [
    {
     "name": "stdout",
     "output_type": "stream",
     "text": [
      "Universidad: ESPE\n"
     ]
    }
   ],
   "source": [
    "imprimir_universidad('ESPE')"
   ]
  },
  {
   "cell_type": "code",
   "execution_count": 28,
   "metadata": {},
   "outputs": [],
   "source": [
    "def imprimir_carro(color,placa,hp,anio):\n",
    "    print(f\"Color: {color}\")\n",
    "    print(f\"Placa: {placa}\")\n",
    "    print(f\"HP: {hp}\")\n",
    "    print(f\"Año: {anio}\")"
   ]
  },
  {
   "cell_type": "code",
   "execution_count": 29,
   "metadata": {},
   "outputs": [
    {
     "name": "stdout",
     "output_type": "stream",
     "text": [
      "Color: Azul\n",
      "Placa: PIK-1234\n",
      "HP: 3000.0\n",
      "Año: 2015\n"
     ]
    }
   ],
   "source": [
    "imprimir_carro('Azul','PIK-1234',3000.00,2015)"
   ]
  },
  {
   "cell_type": "code",
   "execution_count": 30,
   "metadata": {},
   "outputs": [
    {
     "name": "stdout",
     "output_type": "stream",
     "text": [
      "Color: Negro\n",
      "Placa: PIG-123\n",
      "HP: 2000\n",
      "Año: 2018\n"
     ]
    }
   ],
   "source": [
    "# Named Parametros\n",
    "imprimir_carro('Negro',\n",
    "               placa='PIG-123',\n",
    "               anio=2018,\n",
    "               hp=2000)"
   ]
  },
  {
   "cell_type": "code",
   "execution_count": 34,
   "metadata": {},
   "outputs": [],
   "source": [
    "def sumar_numeros(primer_numero, *numeros): #Parametros infinitos *\n",
    "    print(type(primer_numero))\n",
    "    print(type(numeros))\n",
    "    print(f\"Numero: {primer_numero}\")\n",
    "    total = 0;\n",
    "    for numero in numeros:\n",
    "        print(f\"Numero: {numero}\")\n",
    "        total+= numero\n",
    "    return primer_numero + total"
   ]
  },
  {
   "cell_type": "code",
   "execution_count": 40,
   "metadata": {},
   "outputs": [
    {
     "name": "stdout",
     "output_type": "stream",
     "text": [
      "<class 'int'>\n",
      "<class 'tuple'>\n",
      "Numero: 1\n",
      "Numero: 100\n",
      "Numero: 200\n",
      "Numero: 3\n",
      "Numero: 4\n",
      "Numero: 5\n"
     ]
    },
    {
     "data": {
      "text/plain": [
       "313"
      ]
     },
     "execution_count": 40,
     "metadata": {},
     "output_type": "execute_result"
    }
   ],
   "source": [
    "sumar_numeros(1,100,200,3,4,5)"
   ]
  },
  {
   "cell_type": "code",
   "execution_count": 44,
   "metadata": {},
   "outputs": [],
   "source": [
    "def libreria(nombre,conexion, **key_word_arguments):\n",
    "    print(f\"Nombre: {nombre}\")\n",
    "    print(f\"Conexion: {conexion}\")\n",
    "    \n",
    "    print(Type(key_word_arguments)\n",
    "    print(f\"KeyWA: {key_word_arguments}\")"
   ]
  },
  {
   "cell_type": "code",
   "execution_count": 46,
   "metadata": {},
   "outputs": [
    {
     "name": "stdout",
     "output_type": "stream",
     "text": [
      "Nombre: JS\n",
      "Conexion: 192.168.0.1\n",
      "KeyWA: {'puerto': 3000}\n"
     ]
    }
   ],
   "source": [
    "libreria('JS','192.168.0.1',puerto=3000)"
   ]
  },
  {
   "cell_type": "code",
   "execution_count": null,
   "metadata": {},
   "outputs": [],
   "source": []
  }
 ],
 "metadata": {
  "kernelspec": {
   "display_name": "Python 3",
   "language": "python",
   "name": "python3"
  },
  "language_info": {
   "codemirror_mode": {
    "name": "ipython",
    "version": 3
   },
   "file_extension": ".py",
   "mimetype": "text/x-python",
   "name": "python",
   "nbconvert_exporter": "python",
   "pygments_lexer": "ipython3",
   "version": "3.6.5"
  }
 },
 "nbformat": 4,
 "nbformat_minor": 2
}
