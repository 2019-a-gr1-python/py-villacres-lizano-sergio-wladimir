{
 "cells": [
  {
   "cell_type": "markdown",
   "metadata": {},
   "source": [
    "# Funcion dentro de funcion"
   ]
  },
  {
   "cell_type": "code",
   "execution_count": 1,
   "metadata": {},
   "outputs": [
    {
     "ename": "SyntaxError",
     "evalue": "non-default argument follows default argument (<ipython-input-1-e3c4c553cae3>, line 1)",
     "output_type": "error",
     "traceback": [
      "\u001b[1;36m  File \u001b[1;32m\"<ipython-input-1-e3c4c553cae3>\"\u001b[1;36m, line \u001b[1;32m1\u001b[0m\n\u001b[1;33m    def calculadora(operacion='sumar',num_uno,num_dos):\u001b[0m\n\u001b[1;37m                   ^\u001b[0m\n\u001b[1;31mSyntaxError\u001b[0m\u001b[1;31m:\u001b[0m non-default argument follows default argument\n"
     ]
    }
   ],
   "source": [
    "def calculadora(operacion='sumar',num_uno,num_dos):\n",
    "    def sumar():\n",
    "        return num_uno + num_dos\n",
    "    def restar():\n",
    "        return num_uno - num_dos\n",
    "    def multiplicar():\n",
    "        return num_uno * num_dos\n",
    "    def dividir():\n",
    "        return num_uno / num_dos\n",
    "    def switch_operacion():\n",
    "        return {\n",
    "            'sumar':sumar(),\n",
    "            'restar':restar(),\n",
    "            'multiplicar':multiplicar(),\n",
    "            'dividir':dividir()\n",
    "        }[operacion]\n",
    "    \n",
    "    return switch_operacion()"
   ]
  },
  {
   "cell_type": "code",
   "execution_count": null,
   "metadata": {},
   "outputs": [],
   "source": []
  }
 ],
 "metadata": {
  "kernelspec": {
   "display_name": "Python 3",
   "language": "python",
   "name": "python3"
  },
  "language_info": {
   "codemirror_mode": {
    "name": "ipython",
    "version": 3
   },
   "file_extension": ".py",
   "mimetype": "text/x-python",
   "name": "python",
   "nbconvert_exporter": "python",
   "pygments_lexer": "ipython3",
   "version": "3.6.5"
  }
 },
 "nbformat": 4,
 "nbformat_minor": 2
}
