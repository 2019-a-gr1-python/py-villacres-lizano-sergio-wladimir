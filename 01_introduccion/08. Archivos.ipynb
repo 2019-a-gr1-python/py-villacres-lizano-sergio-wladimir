{
 "cells": [
  {
   "cell_type": "markdown",
   "metadata": {},
   "source": [
    "# Archivos"
   ]
  },
  {
   "cell_type": "code",
   "execution_count": 1,
   "metadata": {},
   "outputs": [
    {
     "name": "stdout",
     "output_type": "stream",
     "text": [
      "<_io.TextIOWrapper name='./08_archivos.txt' mode='r' encoding='cp1252'>\n",
      "<class '_io.TextIOWrapper'>\n",
      "Buenas nochesBuenos diasBuenas tardesBuenas tardes\n",
      "\n",
      "<class 'str'>\n",
      "Buenas tardes\n",
      "\n",
      "<class 'str'>\n"
     ]
    }
   ],
   "source": [
    "try:\n",
    "    path = './08_archivos.txt'\n",
    "    archivo_abierto = open(path)\n",
    "    print(archivo_abierto)\n",
    "    print(type(archivo_abierto))\n",
    "    linea_leida_uno = archivo_abierto.readline()\n",
    "    print(linea_leida_uno)\n",
    "    print(type(linea_leida_uno))\n",
    "    linea_leida_dos = archivo_abierto.readline()\n",
    "    print(linea_leida_dos)\n",
    "    print(type(linea_leida_dos))\n",
    "    archivo_abierto.close()\n",
    "    \n",
    "    \n",
    "except:\n",
    "    print('Error al abrir')"
   ]
  },
  {
   "cell_type": "code",
   "execution_count": 17,
   "metadata": {},
   "outputs": [],
   "source": [
    "try:\n",
    "    path = './08_archivos.txt'\n",
    "    archivo_escritura_abierto = open(path,mode='a')\n",
    "    archivo_escritura_abierto.write('Buenas tardes\\n') #Sobre escribe el contenido\n",
    "    archivo_escritura_abierto.writelines(['\\nhola','\\nSergio'])\n",
    "    archivo_escritura_abierto.close()\n",
    "    \n",
    "except:\n",
    "    print('Error al abrir')"
   ]
  },
  {
   "cell_type": "code",
   "execution_count": null,
   "metadata": {},
   "outputs": [],
   "source": []
  }
 ],
 "metadata": {
  "kernelspec": {
   "display_name": "Python 3",
   "language": "python",
   "name": "python3"
  },
  "language_info": {
   "codemirror_mode": {
    "name": "ipython",
    "version": 3
   },
   "file_extension": ".py",
   "mimetype": "text/x-python",
   "name": "python",
   "nbconvert_exporter": "python",
   "pygments_lexer": "ipython3",
   "version": "3.6.5"
  }
 },
 "nbformat": 4,
 "nbformat_minor": 2
}
