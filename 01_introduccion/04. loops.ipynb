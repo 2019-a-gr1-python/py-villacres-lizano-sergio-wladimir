{
 "cells": [
  {
   "cell_type": "code",
   "execution_count": 11,
   "metadata": {},
   "outputs": [
    {
     "data": {
      "text/plain": [
       "[1, 2, 3, 4, 5, 6, 7, 8, 9, 10]"
      ]
     },
     "execution_count": 11,
     "metadata": {},
     "output_type": "execute_result"
    }
   ],
   "source": [
    "lista = [1,2,3,4,5,6,7,8,9,10]\n",
    "lista"
   ]
  },
  {
   "cell_type": "code",
   "execution_count": 2,
   "metadata": {},
   "outputs": [],
   "source": [
    "rango1=range(1,5)"
   ]
  },
  {
   "cell_type": "code",
   "execution_count": 3,
   "metadata": {},
   "outputs": [
    {
     "data": {
      "text/plain": [
       "range"
      ]
     },
     "execution_count": 3,
     "metadata": {},
     "output_type": "execute_result"
    }
   ],
   "source": [
    "type(rango1)"
   ]
  },
  {
   "cell_type": "code",
   "execution_count": 5,
   "metadata": {},
   "outputs": [
    {
     "name": "stdout",
     "output_type": "stream",
     "text": [
      "Indice: 0\n",
      "Indice: 1\n",
      "Indice: 2\n",
      "Indice: 3\n",
      "Indice: 5\n",
      "Indice: 6\n",
      "Indice: 7\n",
      "Indice: 9\n"
     ]
    }
   ],
   "source": [
    "for numero in range(10):\n",
    "    if(numero==4 or numero==8):\n",
    "        continue\n",
    "    print(f\"Indice: {numero}\")"
   ]
  },
  {
   "cell_type": "code",
   "execution_count": 6,
   "metadata": {},
   "outputs": [
    {
     "name": "stdout",
     "output_type": "stream",
     "text": [
      "Indice: 0\n",
      "Indice: 1\n",
      "Indice: 2\n",
      "Indice: 3\n"
     ]
    }
   ],
   "source": [
    "for numero in range(10):\n",
    "    if(numero==4):\n",
    "        break\n",
    "    print(f\"Indice: {numero}\")"
   ]
  },
  {
   "cell_type": "code",
   "execution_count": 10,
   "metadata": {},
   "outputs": [
    {
     "name": "stdout",
     "output_type": "stream",
     "text": [
      "Numero auxiliar: 0\n",
      "Numero auxiliar: 1\n",
      "Numero auxiliar: 2\n",
      "Numero auxiliar: 3\n",
      "Numero auxiliar: 4\n",
      "Numero auxiliar: 5\n",
      "Numero auxiliar: 6\n",
      "Numero auxiliar: 7\n",
      "Numero auxiliar: 8\n",
      "Numero auxiliar: 9\n"
     ]
    }
   ],
   "source": [
    "numeroAuxiliar = 0\n",
    "while numeroAuxiliar < 10:\n",
    "    print(f\"Numero auxiliar: {numeroAuxiliar}\")\n",
    "    numeroAuxiliar+=1"
   ]
  },
  {
   "cell_type": "code",
   "execution_count": null,
   "metadata": {},
   "outputs": [],
   "source": []
  }
 ],
 "metadata": {
  "kernelspec": {
   "display_name": "Python 3",
   "language": "python",
   "name": "python3"
  },
  "language_info": {
   "codemirror_mode": {
    "name": "ipython",
    "version": 3
   },
   "file_extension": ".py",
   "mimetype": "text/x-python",
   "name": "python",
   "nbconvert_exporter": "python",
   "pygments_lexer": "ipython3",
   "version": "3.6.5"
  }
 },
 "nbformat": 4,
 "nbformat_minor": 2
}
